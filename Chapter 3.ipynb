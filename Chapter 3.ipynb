{
 "cells": [
  {
   "cell_type": "code",
   "execution_count": 1,
   "metadata": {},
   "outputs": [
    {
     "name": "stdout",
     "output_type": "stream",
     "text": [
      "enter the temperature in degree farheinet: 70\n",
      "the temperature in degree celcius is  21.11111111111111\n"
     ]
    }
   ],
   "source": [
    "                                   #Problem 3.1\n",
    "F=eval(input(\"enter the temperature in degree farheinet: \"))\n",
    "C=(F-32)*5/9\n",
    "print(\"the temperature in degree celcius is \",C)"
   ]
  },
  {
   "cell_type": "code",
   "execution_count": 2,
   "metadata": {},
   "outputs": [
    {
     "name": "stdout",
     "output_type": "stream",
     "text": [
      "enter your age: 70\n",
      "u can get pension benifits\n"
     ]
    }
   ],
   "source": [
    "                                  #Problem 3.2\n",
    "#(a)\n",
    "a=eval(input(\"enter your age: \"))\n",
    "if a>61:\n",
    "    print(\"u can get pension benifits\")"
   ]
  },
  {
   "cell_type": "code",
   "execution_count": 3,
   "metadata": {},
   "outputs": [
    {
     "name": "stdout",
     "output_type": "stream",
     "text": [
      "enter your name:aaaraon\n",
      "one of the top 5 baseball players,ever!\n"
     ]
    }
   ],
   "source": [
    "#(b)\n",
    "a=input(\"enter your name:\")\n",
    "lst=['musial','aaaraon','williams','gehrig','ruth']\n",
    "if a in lst:\n",
    "    print(\"one of the top 5 baseball players,ever!\")\n",
    "\n"
   ]
  },
  {
   "cell_type": "code",
   "execution_count": 5,
   "metadata": {},
   "outputs": [
    {
     "name": "stdout",
     "output_type": "stream",
     "text": [
      "enter number of hits: 11\n",
      "enter the shield: 0\n",
      "u are dead\n"
     ]
    }
   ],
   "source": [
    "#(c)\n",
    "hit=eval(input(\"enter number of hits: \"))\n",
    "shield=eval(input(\"enter the shield: \"))\n",
    "if hit>10 and shield==0:\n",
    "    print(\"u are dead\")"
   ]
  },
  {
   "cell_type": "code",
   "execution_count": 6,
   "metadata": {},
   "outputs": [
    {
     "name": "stdout",
     "output_type": "stream",
     "text": [
      "enter a position :south\n",
      "u can escape\n"
     ]
    }
   ],
   "source": [
    "#(d)\n",
    "a=input(\"enter a position :\")\n",
    "lst=['north','east','west','south']\n",
    "if a in lst:\n",
    "    print(\"u can escape\")\n",
    "    "
   ]
  },
  {
   "cell_type": "code",
   "execution_count": 7,
   "metadata": {},
   "outputs": [
    {
     "name": "stdout",
     "output_type": "stream",
     "text": [
      "enter days in year: 366\n",
      "could be a leap year:)\n"
     ]
    }
   ],
   "source": [
    "                                 #Problem 3.3\n",
    "#(a)\n",
    "year=eval(input(\"enter days in year: \"))\n",
    "if year%4 == 0:\n",
    "    print(\"definately not a leap year:(\")\n",
    "else:\n",
    "    print(\"could be a leap year:)\")"
   ]
  },
  {
   "cell_type": "code",
   "execution_count": 4,
   "metadata": {},
   "outputs": [
    {
     "name": "stdout",
     "output_type": "stream",
     "text": [
      "enter your lottery ticket no.1\n",
      "enter your lottery ticket no.2\n",
      "enter your lottery ticket no.3\n",
      "u won:)\n"
     ]
    }
   ],
   "source": [
    "#(b)\n",
    "ticket=[1,2,3]\n",
    "lottery=[]\n",
    "for i in range(1,4):\n",
    "    x=int(input(\"enter your lottery ticket no.\"))\n",
    "    lottery.append(x)\n",
    "if ticket==lottery:\n",
    "    print(\"u won:)\")\n",
    "else:\n",
    "    print(\"better luck next time:( \")\n",
    "    "
   ]
  },
  {
   "cell_type": "code",
   "execution_count": 6,
   "metadata": {},
   "outputs": [
    {
     "name": "stdout",
     "output_type": "stream",
     "text": [
      "login: hani\n",
      "you are in!\n",
      "Done.\n"
     ]
    }
   ],
   "source": [
    "                          #Problem 3.4\n",
    "#(a)\n",
    "lst=['joe','sue','hani','sophie']\n",
    "x=input(\"login: \")\n",
    "if x in lst:\n",
    "    print(\"you are in!\")\n",
    "else:\n",
    "    print(\"u are unknown:\")\n",
    "print(\"Done.\")"
   ]
  },
  {
   "cell_type": "code",
   "execution_count": 7,
   "metadata": {},
   "outputs": [
    {
     "name": "stdout",
     "output_type": "stream",
     "text": [
      "enter the word:inheritance\n",
      "enter the word:python\n",
      "enter the word:ball\n",
      "enter the word:bait\n",
      "ball\n",
      "bait\n"
     ]
    }
   ],
   "source": [
    "                  #Problem 3.5\n",
    "wordlist=[]\n",
    "for i in range(1,5):\n",
    "    x=input(\"enter the word:\")\n",
    "    wordlist.append(x)\n",
    "for word in wordlist:\n",
    "    if len(word)==4:\n",
    "        print(word)  "
   ]
  },
  {
   "cell_type": "code",
   "execution_count": 8,
   "metadata": {},
   "outputs": [
    {
     "name": "stdout",
     "output_type": "stream",
     "text": [
      "0\n",
      "1\n",
      "2\n",
      "3\n",
      "4\n",
      "5\n",
      "6\n",
      "7\n",
      "8\n",
      "9\n"
     ]
    }
   ],
   "source": [
    "                  #Problem 3.6\n",
    "#(a)\n",
    "for i in range(0,9+1):\n",
    "    print(i)"
   ]
  },
  {
   "cell_type": "code",
   "execution_count": 9,
   "metadata": {},
   "outputs": [
    {
     "name": "stdout",
     "output_type": "stream",
     "text": [
      "0\n",
      "1\n"
     ]
    }
   ],
   "source": [
    "#(b)\n",
    "for a in range(0,2):\n",
    "    print(a)"
   ]
  },
  {
   "cell_type": "code",
   "execution_count": 10,
   "metadata": {},
   "outputs": [
    {
     "name": "stdout",
     "output_type": "stream",
     "text": [
      "3\n",
      "4\n",
      "5\n",
      "6\n",
      "7\n",
      "8\n",
      "9\n",
      "10\n",
      "11\n",
      "12\n"
     ]
    }
   ],
   "source": [
    "                          #Problem 3.7\n",
    "#(a)\n",
    "for a in range(3,12+1):\n",
    "    print(a)"
   ]
  },
  {
   "cell_type": "code",
   "execution_count": 11,
   "metadata": {},
   "outputs": [
    {
     "name": "stdout",
     "output_type": "stream",
     "text": [
      "0\n",
      "2\n",
      "4\n",
      "6\n",
      "8\n"
     ]
    }
   ],
   "source": [
    "#(b)\n",
    "for a in range(0,9,2):\n",
    "    print(a)"
   ]
  },
  {
   "cell_type": "code",
   "execution_count": 12,
   "metadata": {},
   "outputs": [
    {
     "name": "stdout",
     "output_type": "stream",
     "text": [
      "0\n",
      "3\n",
      "6\n",
      "9\n",
      "12\n",
      "15\n",
      "18\n",
      "21\n"
     ]
    }
   ],
   "source": [
    "#(c)\n",
    "for a in range(0,24,3):\n",
    "    print(a)"
   ]
  },
  {
   "cell_type": "code",
   "execution_count": 13,
   "metadata": {},
   "outputs": [
    {
     "name": "stdout",
     "output_type": "stream",
     "text": [
      "3\n",
      "8\n"
     ]
    }
   ],
   "source": [
    "#(d)\n",
    "for a in range(3,12,5):\n",
    "    print(a)"
   ]
  },
  {
   "cell_type": "code",
   "execution_count": 14,
   "metadata": {},
   "outputs": [
    {
     "data": {
      "text/plain": [
       "50.26548245743669"
      ]
     },
     "execution_count": 14,
     "metadata": {},
     "output_type": "execute_result"
    }
   ],
   "source": [
    "                    #Problem 3.8\n",
    "import math\n",
    "def perimeter(a):\n",
    "    return a*(2*math.pi)\n",
    "perimeter(8)  "
   ]
  },
  {
   "cell_type": "code",
   "execution_count": 15,
   "metadata": {},
   "outputs": [
    {
     "data": {
      "text/plain": [
       "12.566370614359172"
      ]
     },
     "execution_count": 15,
     "metadata": {},
     "output_type": "execute_result"
    }
   ],
   "source": [
    "perimeter(2)"
   ]
  },
  {
   "cell_type": "code",
   "execution_count": 16,
   "metadata": {
    "scrolled": true
   },
   "outputs": [
    {
     "data": {
      "text/plain": [
       "13.5"
      ]
     },
     "execution_count": 16,
     "metadata": {},
     "output_type": "execute_result"
    }
   ],
   "source": [
    "                      #Problem 3.9\n",
    "def average(x,y):\n",
    "    return (x+y)/2\n",
    "average(19,8)"
   ]
  },
  {
   "cell_type": "code",
   "execution_count": 17,
   "metadata": {},
   "outputs": [
    {
     "data": {
      "text/plain": [
       "3.25"
      ]
     },
     "execution_count": 17,
     "metadata": {},
     "output_type": "execute_result"
    }
   ],
   "source": [
    "average(2,4.5)"
   ]
  },
  {
   "cell_type": "code",
   "execution_count": 1,
   "metadata": {},
   "outputs": [
    {
     "name": "stdout",
     "output_type": "stream",
     "text": [
      "enter a word:ahsan\n"
     ]
    },
    {
     "data": {
      "text/plain": [
       "False"
      ]
     },
     "execution_count": 1,
     "metadata": {},
     "output_type": "execute_result"
    }
   ],
   "source": [
    "                     #Problem 3.10\n",
    "def novowel():\n",
    "    'returns true if string contains novowel,fasle otherwise'\n",
    "    s=input(\"enter a word:\")\n",
    "    for c in s:\n",
    "        if c in (\"aeiouAEIOU\"):\n",
    "            return False\n",
    "    return True\n",
    "novowel()"
   ]
  },
  {
   "cell_type": "code",
   "execution_count": 2,
   "metadata": {},
   "outputs": [
    {
     "name": "stdout",
     "output_type": "stream",
     "text": [
      "enter a word:brynn\n"
     ]
    },
    {
     "data": {
      "text/plain": [
       "True"
      ]
     },
     "execution_count": 2,
     "metadata": {},
     "output_type": "execute_result"
    }
   ],
   "source": [
    "novowel()"
   ]
  },
  {
   "cell_type": "code",
   "execution_count": 4,
   "metadata": {},
   "outputs": [
    {
     "data": {
      "text/plain": [
       "True"
      ]
     },
     "execution_count": 4,
     "metadata": {},
     "output_type": "execute_result"
    }
   ],
   "source": [
    "                     #Problem 3.11\n",
    "def allEven(numlst):\n",
    "    'returns true is all integers in numlist are even,false otherwise'\n",
    "    for num in numlst:\n",
    "        if (num%2) != 0 :\n",
    "            return False\n",
    "    return True\n",
    "allEven([2,4,6,8,0,12])"
   ]
  },
  {
   "cell_type": "code",
   "execution_count": 5,
   "metadata": {},
   "outputs": [
    {
     "data": {
      "text/plain": [
       "False"
      ]
     },
     "execution_count": 5,
     "metadata": {},
     "output_type": "execute_result"
    }
   ],
   "source": [
    "allEven([2,3,4,5,6])"
   ]
  },
  {
   "cell_type": "code",
   "execution_count": 6,
   "metadata": {},
   "outputs": [
    {
     "name": "stdout",
     "output_type": "stream",
     "text": [
      "enter a number: 3\n",
      "enter a number: 7\n",
      "enter a number: -9\n",
      "enter a number: -8\n",
      "enter a number: 4\n",
      "-9\n",
      "-8\n",
      "[3, 7, -9, -8, 4]\n"
     ]
    }
   ],
   "source": [
    "                    #Problem 3.12\n",
    "def negatives():\n",
    "    'it will take all values in input and print onl;y negative ones'\n",
    "    neg=[]\n",
    "    for i in range(1,6):\n",
    "        x=eval(input(\"enter a number: \"))\n",
    "        neg.append(x)\n",
    "    for num in neg:\n",
    "        if num<0:\n",
    "            print(num)\n",
    "    print(neg)\n",
    "negatives()   \n"
   ]
  },
  {
   "cell_type": "code",
   "execution_count": 9,
   "metadata": {},
   "outputs": [
    {
     "name": "stdout",
     "output_type": "stream",
     "text": [
      "Help on function novowel in module __main__:\n",
      "\n",
      "novowel()\n",
      "    returns true if string contains novowel,fasle otherwise\n",
      "\n"
     ]
    }
   ],
   "source": [
    "#Problem 3.14\n",
    "help(novowel)"
   ]
  },
  {
   "cell_type": "code",
   "execution_count": 17,
   "metadata": {},
   "outputs": [
    {
     "name": "stdout",
     "output_type": "stream",
     "text": [
      "Help on function negatives in module __main__:\n",
      "\n",
      "negatives()\n",
      "    it will take all values in input and print onl;y negative ones\n",
      "\n"
     ]
    }
   ],
   "source": [
    "help(negatives)"
   ]
  },
  {
   "cell_type": "code",
   "execution_count": 10,
   "metadata": {},
   "outputs": [
    {
     "name": "stdout",
     "output_type": "stream",
     "text": [
      "Help on function allEven in module __main__:\n",
      "\n",
      "allEven(numlst)\n",
      "    returns true is all integers in numlist are even,false otherwise\n",
      "\n"
     ]
    }
   ],
   "source": [
    "help(allEven)"
   ]
  },
  {
   "cell_type": "code",
   "execution_count": 11,
   "metadata": {},
   "outputs": [
    {
     "name": "stdout",
     "output_type": "stream",
     "text": [
      "['sarah', 'eleanor', 'clare', 'ava']\n"
     ]
    }
   ],
   "source": [
    "#Problem 3.15\n",
    "team=['ava', 'eleanor','clare','sarah']\n",
    "a=team[0]\n",
    "team[0]=team[3]\n",
    "team[3]=a\n",
    "print(team)"
   ]
  },
  {
   "cell_type": "code",
   "execution_count": 14,
   "metadata": {},
   "outputs": [
    {
     "name": "stdout",
     "output_type": "stream",
     "text": [
      "['bilal', 'wajid', 'ahmed', 'ali']\n"
     ]
    }
   ],
   "source": [
    "#problem 3.16\n",
    "lst=['ali','wajid','ahmed','bilal']\n",
    "def swapFL(lst):\n",
    "    'this function replace the first element to the last element of a list'\n",
    "    a=lst[0]\n",
    "    lst[0]=lst[-1]\n",
    "    lst[-1]=a\n",
    "    print(lst)\n",
    "swapFL(lst)"
   ]
  },
  {
   "cell_type": "code",
   "execution_count": 8,
   "metadata": {},
   "outputs": [
    {
     "name": "stdout",
     "output_type": "stream",
     "text": [
      "7\n",
      "hello world!\n",
      "2\n"
     ]
    },
    {
     "ename": "SyntaxError",
     "evalue": "invalid syntax (<string>, line 1)",
     "output_type": "error",
     "traceback": [
      "Traceback \u001b[1;36m(most recent call last)\u001b[0m:\n",
      "  File \u001b[0;32m\"C:\\Users\\Fady\\Anaconda3\\lib\\site-packages\\IPython\\core\\interactiveshell.py\"\u001b[0m, line \u001b[0;32m3325\u001b[0m, in \u001b[0;35mrun_code\u001b[0m\n    exec(code_obj, self.user_global_ns, self.user_ns)\n",
      "\u001b[1;36m  File \u001b[1;32m\"<ipython-input-8-69259916f066>\"\u001b[1;36m, line \u001b[1;32m5\u001b[1;36m, in \u001b[1;35m<module>\u001b[1;36m\u001b[0m\n\u001b[1;33m    print(eval('x=5'))\u001b[0m\n",
      "\u001b[1;36m  File \u001b[1;32m\"<string>\"\u001b[1;36m, line \u001b[1;32m1\u001b[0m\n\u001b[1;33m    x=5\u001b[0m\n\u001b[1;37m     ^\u001b[0m\n\u001b[1;31mSyntaxError\u001b[0m\u001b[1;31m:\u001b[0m invalid syntax\n"
     ]
    }
   ],
   "source": [
    "                   #Problem 3.17\n",
    "print(eval('2*3+1'))\n",
    "print(eval(\"'hello'+' '+'world!'\"))\n",
    "print(eval(\"'ASCII'.count('I')\"))\n",
    "print(eval('x=5'))#this will give an error becuz this a numeric data but we have assigned it as string\n",
    "print(eval('hello'))#this will give an error becuz 'hello' is a string\n"
   ]
  },
  {
   "cell_type": "code",
   "execution_count": 15,
   "metadata": {},
   "outputs": [
    {
     "name": "stdout",
     "output_type": "stream",
     "text": [
      "ok\n",
      "ok\n"
     ]
    }
   ],
   "source": [
    "                       #Problem 3.18\n",
    "a,b,c=3,4,5\n",
    "if a<b:\n",
    "    print(\"ok\")\n",
    "if c<b:\n",
    "    print('ok')\n",
    "if a+b==c:\n",
    "    print(\"ok\")\n",
    "if (a*a)+(b*b)==c*c:\n",
    "    print(\"ok\")"
   ]
  },
  {
   "cell_type": "code",
   "execution_count": 16,
   "metadata": {},
   "outputs": [
    {
     "name": "stdout",
     "output_type": "stream",
     "text": [
      "ok\n",
      "NOT OK\n",
      "NOT OK\n",
      "ok\n"
     ]
    }
   ],
   "source": [
    "                        #Problemm 3.19\n",
    "a,b,c=3,4,5\n",
    "if a<b:\n",
    "    print(\"ok\")\n",
    "else:\n",
    "    print(\"NOT OK\")\n",
    "if c<b:\n",
    "    print('ok')\n",
    "else:\n",
    "    print(\"NOT OK\")\n",
    "if a+b==c:\n",
    "    print(\"ok\")\n",
    "else:\n",
    "    print(\"NOT OK\")\n",
    "if (a*a)+(b*b)==c*c:\n",
    "    print(\"ok\")\n",
    "else:\n",
    "    print(\"NOT OK\")"
   ]
  },
  {
   "cell_type": "code",
   "execution_count": 17,
   "metadata": {},
   "outputs": [
    {
     "name": "stdout",
     "output_type": "stream",
     "text": [
      "Jan\n",
      "Feb\n",
      "Mar\n"
     ]
    }
   ],
   "source": [
    "                             #Problem 3.20\n",
    "lst=['January','February','March']\n",
    "for i in lst:\n",
    "    print(i[:3])\n",
    "        "
   ]
  },
  {
   "cell_type": "code",
   "execution_count": 18,
   "metadata": {},
   "outputs": [
    {
     "name": "stdout",
     "output_type": "stream",
     "text": [
      "2 is a even number\n",
      "4 is a even number\n",
      "6 is a even number\n",
      "8 is a even number\n"
     ]
    }
   ],
   "source": [
    "                             #Problem 3.21\n",
    "even=[2,3,4,5,6,7,8,9]\n",
    "for i in even:\n",
    "    if i%2==0:\n",
    "        print(i,\"is a even number\")"
   ]
  },
  {
   "cell_type": "code",
   "execution_count": 3,
   "metadata": {},
   "outputs": [
    {
     "name": "stdout",
     "output_type": "stream",
     "text": [
      "square of  4 is divisible by 8\n",
      "square of  8 is divisible by 8\n"
     ]
    }
   ],
   "source": [
    "                             #Problem 3.22\n",
    "lst=[2,3,4,5,6,7,8,9]\n",
    "for i in lst:\n",
    "    if i*i%8==0:\n",
    "        print('square of ',str(i),'is divisible by 8')"
   ]
  },
  {
   "cell_type": "code",
   "execution_count": 3,
   "metadata": {},
   "outputs": [
    {
     "name": "stdout",
     "output_type": "stream",
     "text": [
      "0 1 \n",
      "0 \n",
      "3 4 5 6 \n",
      "1 \n",
      "0 3 \n",
      "5 9 13 17 21 "
     ]
    }
   ],
   "source": [
    "                              #Problem 3.23\n",
    "for i in range(0,2):\n",
    "    print(i, end=\" \")\n",
    "print()\n",
    "for i in range(1):\n",
    "    print(i,end=' ')\n",
    "print()\n",
    "for i in range(3,7):\n",
    "    print(i, end=\" \")\n",
    "print()\n",
    "for i in range(1,2):\n",
    "    print(i, end=' ')\n",
    "print()\n",
    "for i in range(0,4,3):\n",
    "    print(i, end=' ')\n",
    "print()\n",
    "for i in range(5,22,4):\n",
    "    print(i, end=' ')"
   ]
  },
  {
   "cell_type": "code",
   "execution_count": 19,
   "metadata": {},
   "outputs": [
    {
     "name": "stdout",
     "output_type": "stream",
     "text": [
      "enter the list ofwords: ahsan\n",
      "enter the list ofwords: sufyan\n",
      "enter the list ofwords: abeer\n",
      "enter the list ofwords: farzan\n",
      "enter the list ofwords: jawwad\n",
      "['ahsan', 'sufyan', 'abeer', 'farzan', 'jawwad']\n",
      "ahsan\n",
      "sufyan\n",
      "abeer\n",
      "farzan\n",
      "jawwad\n"
     ]
    }
   ],
   "source": [
    "                         #Problem 3.24\n",
    "word=[]\n",
    "for i in range(0,5):\n",
    "    x=input(\"enter the list ofwords: \")\n",
    "    word.append(x) \n",
    "print(word)\n",
    "for j in word:\n",
    "    if 'secret'!= j:\n",
    "        print(j)"
   ]
  },
  {
   "cell_type": "code",
   "execution_count": 20,
   "metadata": {},
   "outputs": [
    {
     "name": "stdout",
     "output_type": "stream",
     "text": [
      "enter the name of the student: wassay\n",
      "enter the name of the student: wajid\n",
      "enter the name of the student: jawwwad\n",
      "enter the name of the student: ahsan\n",
      "enter the name of the student: ali\n",
      "['wassay', 'wajid', 'jawwwad', 'ahsan', 'ali']\n"
     ]
    }
   ],
   "source": [
    "                           #Problem 3.25\n",
    "lst=[]\n",
    "for i in range(5):\n",
    "    x=input(\"enter the name of the student: \")\n",
    "    lst.append(x)\n",
    "print(lst)\n",
    "for i in lst:\n",
    "    if'A'<=i[0] and i[0]<='M':\n",
    "        print(i)"
   ]
  },
  {
   "cell_type": "code",
   "execution_count": 24,
   "metadata": {},
   "outputs": [
    {
     "name": "stdout",
     "output_type": "stream",
     "text": [
      "enter the number of list: [4,3,2,1]\n",
      "the first element is  4\n",
      "the last element is 1\n"
     ]
    }
   ],
   "source": [
    "                   #Problem 3.26\n",
    "x=eval(input(\"enter the number of list: \"))\n",
    "print(\"the first element is \",x[0])\n",
    "print(\"the last element is\",x[-1])"
   ]
  },
  {
   "cell_type": "code",
   "execution_count": 26,
   "metadata": {},
   "outputs": [
    {
     "name": "stdout",
     "output_type": "stream",
     "text": [
      "enter a number: 5\n",
      "0\n",
      "5\n",
      "10\n",
      "15\n"
     ]
    }
   ],
   "source": [
    "                   #Problem 3.27\n",
    "n=eval(input('enter a number: '))\n",
    "for i in range(0,4):\n",
    "    print (i*n)"
   ]
  },
  {
   "cell_type": "code",
   "execution_count": 27,
   "metadata": {},
   "outputs": [
    {
     "name": "stdout",
     "output_type": "stream",
     "text": [
      "enter a integer: 6\n",
      "0\n",
      "1\n",
      "4\n",
      "9\n",
      "16\n",
      "25\n"
     ]
    }
   ],
   "source": [
    "                  #Problem 3.28\n",
    "n=int(input(\"enter a integer: \"))\n",
    "for i in range(n):\n",
    "    print(i*i)"
   ]
  },
  {
   "cell_type": "code",
   "execution_count": 28,
   "metadata": {},
   "outputs": [
    {
     "name": "stdout",
     "output_type": "stream",
     "text": [
      "enter a number: 70\n",
      "1\n",
      "2\n",
      "5\n",
      "7\n",
      "10\n",
      "14\n",
      "35\n",
      "70\n"
     ]
    }
   ],
   "source": [
    "                  #Problem 3.29\n",
    "n=eval(input(\"enter a number: \"))\n",
    "for i in range(1,n+1):\n",
    "    if (n%i==0):\n",
    "        print(i)\n",
    "        \n"
   ]
  },
  {
   "cell_type": "code",
   "execution_count": 30,
   "metadata": {},
   "outputs": [
    {
     "name": "stdout",
     "output_type": "stream",
     "text": [
      "enter four numbers: 3,8,7.5,6\n",
      "Not Equal\n"
     ]
    }
   ],
   "source": [
    "                 #Problem 3.30\n",
    "a,b,c,d=eval(input(\"enter four numbers: \"))\n",
    "if ((a+b+c)/3==d):\n",
    "    print(\"Equal\")\n",
    "else:\n",
    "    print(\"Not Equal\")"
   ]
  },
  {
   "cell_type": "code",
   "execution_count": 31,
   "metadata": {},
   "outputs": [
    {
     "name": "stdout",
     "output_type": "stream",
     "text": [
      "enter the x and y coordinate 2,4\n",
      "it is in!\n"
     ]
    }
   ],
   "source": [
    "                 #Problem 3.31\n",
    "x,y=eval(input(\"enter the x and y coordinate \"))\n",
    "if ((-10<x<10) and (-10<y<10)):\n",
    "    if ((x*x)+(y*y)<64):\n",
    "        print('it is in!')\n",
    "    else:\n",
    "        print('u missed')\n",
    "else:\n",
    "    print(\"the value of x and y must be in between of -10,10\")"
   ]
  },
  {
   "cell_type": "code",
   "execution_count": 32,
   "metadata": {},
   "outputs": [
    {
     "name": "stdout",
     "output_type": "stream",
     "text": [
      "Enter n: 1234\n",
      "1\n",
      "2\n",
      "3\n",
      "4\n"
     ]
    }
   ],
   "source": [
    "               #Problem 3.32\n",
    "n = eval(input(\"Enter n: \"))\n",
    "x=n\n",
    "print(x-n+1)\n",
    "print(x-n+2)\n",
    "print(x-n+3)\n",
    "print(x-n+4)\n",
    "\n"
   ]
  },
  {
   "cell_type": "code",
   "execution_count": 34,
   "metadata": {},
   "outputs": [
    {
     "name": "stdout",
     "output_type": "stream",
     "text": [
      "nasha\n",
      "ahsan\n"
     ]
    }
   ],
   "source": [
    "                 #Problem 3.33\n",
    "def reverse_string(x):\n",
    "    return x[::-1]\n",
    "print(reverse_string('ahsan'))\n",
    "print(reverse_string('nasha'))"
   ]
  },
  {
   "cell_type": "code",
   "execution_count": 35,
   "metadata": {},
   "outputs": [
    {
     "name": "stdout",
     "output_type": "stream",
     "text": [
      "350\n",
      "475.0\n",
      "550.0\n"
     ]
    }
   ],
   "source": [
    "                #Problem 3.34\n",
    "def pay(x,y):\n",
    "    if (y>40):\n",
    "        a=((y-40)*1.5*x)+(40*x)\n",
    "        print(a)\n",
    "    else:\n",
    "        print(x*y)\n",
    "pay(10,35)\n",
    "pay(10,45)\n",
    "pay(10,50)"
   ]
  },
  {
   "cell_type": "code",
   "execution_count": 1,
   "metadata": {},
   "outputs": [
    {
     "name": "stdout",
     "output_type": "stream",
     "text": [
      "0.5\n",
      "0.25\n"
     ]
    }
   ],
   "source": [
    "                  #Problem 3.35\n",
    "def prob(n):\n",
    "    print(1/2**n)\n",
    "prob(1)\n",
    "prob(2)"
   ]
  },
  {
   "cell_type": "code",
   "execution_count": 3,
   "metadata": {},
   "outputs": [
    {
     "name": "stdout",
     "output_type": "stream",
     "text": [
      "the slope is  1.0  and the distance is  1.4142135623730951\n",
      "the slope is infinity and the distance is  1.0\n"
     ]
    }
   ],
   "source": [
    "                #Problem 3.37\n",
    "import math\n",
    "def slope_dist(x1,y1,x2,y2):\n",
    "    if (x2-x1)==0:\n",
    "        dist=math.sqrt(((x2-x1)**2)+((y2-y1)**2))\n",
    "        print(\"the slope is infinity and the distance is \",dist)\n",
    "    else:\n",
    "        slope1=(y2-y1)/(x2-x1)\n",
    "        dist=math.sqrt(((x2-x1)**2)+((y2-y1)**2))\n",
    "        print(\"the slope is \",slope1,\" and the distance is \",dist)\n",
    "slope_dist(0,0,1,1)\n",
    "slope_dist(0,0,0,1)\n"
   ]
  },
  {
   "cell_type": "code",
   "execution_count": 36,
   "metadata": {},
   "outputs": [
    {
     "data": {
      "text/plain": [
       "'fri'"
      ]
     },
     "execution_count": 36,
     "metadata": {},
     "output_type": "execute_result"
    }
   ],
   "source": [
    "              #Problem 3.38\n",
    "def abbreviation(x):\n",
    "    x=x[0:3]\n",
    "    return x\n",
    "abbreviation(\"friday\")"
   ]
  },
  {
   "cell_type": "code",
   "execution_count": 4,
   "metadata": {},
   "outputs": [
    {
     "name": "stdout",
     "output_type": "stream",
     "text": [
      "True\n",
      "False\n"
     ]
    }
   ],
   "source": [
    "              #Problem 3.39\n",
    "import math\n",
    "def collision(x1,y1,r1,x2,y2,r2):\n",
    "    if (math.sqrt((x1-x2)**2+(y1-y2)**2)>(r1+r2)):\n",
    "        return False\n",
    "    else:\n",
    "        return True\n",
    "print(collision(0,0,3,0,5,3))\n",
    "print(collision(0,0,1.4,2,2,1.4))"
   ]
  },
  {
   "cell_type": "code",
   "execution_count": 5,
   "metadata": {},
   "outputs": [
    {
     "name": "stdout",
     "output_type": "stream",
     "text": [
      "Eleanor\n",
      "Evelyn\n",
      "Gavin\n"
     ]
    }
   ],
   "source": [
    "               #Problem 3.40\n",
    "def partition(a,b,c,d,e):\n",
    "    lst=[a,b,c,d,e]\n",
    "    for i in lst:\n",
    "        for j in i:\n",
    "            if(\"A\"<j[0]<\"M\"):\n",
    "                print(i)\n",
    "partition(\"Eleanor\",\"Evelyn\",\"Sammy\",\"Owen\",\"Gavin\")"
   ]
  },
  {
   "cell_type": "code",
   "execution_count": 37,
   "metadata": {},
   "outputs": [
    {
     "name": "stdout",
     "output_type": "stream",
     "text": [
      "Akbar , A .\n"
     ]
    }
   ],
   "source": [
    "                  #Problem 3.41\n",
    "def lastF(fname,lname):\n",
    "    print(lname,\",\",fname[0],\".\")\n",
    "lastF(\"Ahsan\",\"Akbar\")"
   ]
  },
  {
   "cell_type": "code",
   "execution_count": 8,
   "metadata": {},
   "outputs": [
    {
     "name": "stdout",
     "output_type": "stream",
     "text": [
      "90.0\n",
      "60.0\n",
      "87.0\n",
      "11.0\n"
     ]
    }
   ],
   "source": [
    "                 #Problem 3.42\n",
    "def avg(lst):\n",
    "    for list in lst:\n",
    "        print(sum(list)/len(list))\n",
    "avg([[95,92,86,87],[66,54],[89,72,100],[33,0,0]])"
   ]
  },
  {
   "cell_type": "code",
   "execution_count": 14,
   "metadata": {},
   "outputs": [
    {
     "name": "stdout",
     "output_type": "stream",
     "text": [
      "True\n",
      "False\n"
     ]
    }
   ],
   "source": [
    "                   #Problem 3.43\n",
    "import math\n",
    "def hit(x,y,r,x1,y1):\n",
    "    if ((x-x1)**2+(y-y1)**2<=r*r):\n",
    "        return True\n",
    "    else:\n",
    "        return False\n",
    "print(hit(0,0,3,3,0))\n",
    "print(hit(0,0,3,4,0))"
   ]
  },
  {
   "cell_type": "code",
   "execution_count": 15,
   "metadata": {},
   "outputs": [
    {
     "data": {
      "text/plain": [
       "1.0208700000000002"
      ]
     },
     "execution_count": 15,
     "metadata": {},
     "output_type": "execute_result"
    }
   ],
   "source": [
    "                     #Problem 3.44\n",
    "def distance(n):\n",
    "    return 340.29*n/1000\n",
    "distance(3)\n"
   ]
  }
 ],
 "metadata": {
  "kernelspec": {
   "display_name": "Python 3",
   "language": "python",
   "name": "python3"
  },
  "language_info": {
   "codemirror_mode": {
    "name": "ipython",
    "version": 3
   },
   "file_extension": ".py",
   "mimetype": "text/x-python",
   "name": "python",
   "nbconvert_exporter": "python",
   "pygments_lexer": "ipython3",
   "version": "3.7.4"
  }
 },
 "nbformat": 4,
 "nbformat_minor": 2
}
